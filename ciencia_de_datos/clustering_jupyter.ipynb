{
 "cells": [
  {
   "cell_type": "code",
   "execution_count": null,
   "id": "1c3c3fee",
   "metadata": {},
   "outputs": [],
   "source": [
    "import pandas as pd\n",
    "import seaborn as sns\n",
    "import sklearn\n",
    "iris = pd.read_csv(r:\"C:\\Users\\ulichtenbaum\\Documents\\Fundamentos_de_informatica\\Fundamentos_de_informatica-master\\Fundamentos_de_informatica\\Ciencia_de_datos\\iris_data.txt\")\n"
   ]
  }
 ],
 "metadata": {
  "kernelspec": {
   "display_name": "Python 3 (ipykernel)",
   "language": "python",
   "name": "python3"
  },
  "language_info": {
   "codemirror_mode": {
    "name": "ipython",
    "version": 3
   },
   "file_extension": ".py",
   "mimetype": "text/x-python",
   "name": "python",
   "nbconvert_exporter": "python",
   "pygments_lexer": "ipython3",
   "version": "3.9.7"
  }
 },
 "nbformat": 4,
 "nbformat_minor": 5
}
