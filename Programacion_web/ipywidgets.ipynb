{
 "cells": [
  {
   "cell_type": "code",
   "execution_count": null,
   "metadata": {},
   "outputs": [],
   "source": [
    "import ipywidgets as widgets\n",
    "from ipywidgets import HTML, VBox\n",
    "from ipython.display import display"
   ]
  },
  {
   "cell_type": "code",
   "execution_count": null,
   "metadata": {},
   "outputs": [],
   "source": [
    " h1_main_section = widgets.HTML(\"\"\"\n",
    "    <h1 style='font-size:25px; color:black'>\n",
    "        <b>Welcome to my first API!</b>\n",
    "    </h1>\"\"\")\n",
    "\n",
    "main_text = widgets.HTML(\"\"\"\n",
    "    <p style='font-size:25px; color:black'>\n",
    "    This is an API built in Python \n",
    "    </p>\"\"\")\n",
    "\n",
    "main_section_vbox = widgets.Vbox([h1_main_section, main_text])\n",
    "\n",
    "display(main_section_vbox)"
   ]
  }
 ],
 "metadata": {
  "interpreter": {
   "hash": "a0ab5dd7cbc6dd8e4b8dc5ce977852d75dfd815d95671ae5b33f267f98b897f6"
  },
  "kernelspec": {
   "display_name": "Python 3.9.12 64-bit (windows store)",
   "language": "python",
   "name": "python3"
  },
  "language_info": {
   "name": "python",
   "version": "3.9.12"
  },
  "orig_nbformat": 4
 },
 "nbformat": 4,
 "nbformat_minor": 2
}
